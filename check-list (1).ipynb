{
 "cells": [
  {
   "cell_type": "markdown",
   "metadata": {},
   "source": [
    "# Подготовка рабочего места"
   ]
  },
  {
   "cell_type": "markdown",
   "metadata": {},
   "source": [
    "Проверяем есть ли на компьютере visual  studio code, если нет то скачиваем. Cкачиваем git с офицального сайта для Линукса если Linux. на офицальном сайте git написана команда которую нужно вставить в терминал, перед командой важно добавить sudo \n",
    "\n",
    "Проверяем что в visual studio code в расширениях(extensions) скачан jupyter и python, если нет то ищем и скачиваем их также в расширениях.\n",
    "\n",
    "Создаем папку, открываем её с помощью visual studio code.\n",
    "\n",
    "Для открытия папки:\n",
    "    нажимаем File => Open Folder\n",
    "\n",
    "создаём виртуальную среду\n",
    "    ctrl+shift+p => python create environment(создать среду) enter => venv enter => python(версии которая там будет) enter\n",
    "\n",
    "Ждём пока создастся venv, затем создаём файл с расширением \n",
    ".ipynb - открываем его в нем в углу выбираем select Kernel(выбрать ядро) в появившемся окне выбора выбираем venv\n",
    "нажимаем ctrl+shift+~ (~ находится на букве ё русской)\n",
    "\n",
    "Если windows: \n",
    "\n",
    "    открывется терминал в терминале ищем стрелочку рядом с +, нажимаем по ней выбираем Command prompt,\n",
    "\n",
    "Иначе следующий шаг:\n",
    "\n",
    "если перед строкой в самом начале venv не пишется:\n",
    "\n",
    "    заходим в папку venv/scripts ищем файл activate.bat - копируем к нему путь и вставляем его в нашем терминал\n",
    "    \n",
    "Иначе переходим к следующему шагу\n",
    "\n",
    "в терминале пишем команду pip install ipykernel - после установки пробуем запустить ячейку - если запустилась - все хорошо.\n",
    "\n",
    "Внутри файла скачиваем специальные программы которые нам понадобятся во время решения следующим образом:\n",
    "незабываем добавлять комментарии зачем нужен тот или иной репозиторий,  здесь я в скобках указываю зачем эта библиотека, так что копировать, если команда не выполняется в ячейке копируем в терминал.\n",
    "\n",
    "!git clone https://github.com/bjornstenger/xml2yolo.git\n",
    "(Для изменения формата xml)\n",
    "\n",
    "!git clone https://github.com/ManzarIMalik/YOLO-Annotation-Tool.git (Для просмотра пропусков)\n",
    "\n",
    "!git clone https://github.com/Taeyoung96/Yolo-to-COCO-format-converter.git (Для записи в json)\n",
    "\n",
    "!git clone https://github.com/ultralytics/yolov5 (библиотека для создания модели нейронной сети)\n",
    "\n",
    "теперь устанавливаем необходимые библиотеки также пишем в файле:\n",
    "\n",
    "!pip install pathlib\n",
    "\n",
    "!pip install numpy\n",
    "\n",
    "!pip install opencv-python\n",
    "\n",
    "!pip install imagesize\n",
    "\n",
    "!pip install scikit-learn\n",
    "\n",
    "!pip install -r yolov5/requirements.txt\n",
    "\n",
    "!pip install easyocr\n",
    "\n",
    "!pip install streamlit\n",
    "\n",
    "!pip install pillow\n",
    "\n",
    "!pip install torch"
   ]
  },
  {
   "cell_type": "markdown",
   "metadata": {},
   "source": [
    "из официального репозитория yolov5 скачиваем веса yolov5n и yolov5s \n",
    "вот две сылки для скачивания:\n",
    "\n",
    "https://github.com/ultralytics/yolov5/releases/download/v7.0/yolov5n.pt\n",
    "\n",
    "https://github.com/ultralytics/yolov5/releases/download/v7.0/yolov5s.pt"
   ]
  },
  {
   "cell_type": "markdown",
   "metadata": {},
   "source": [
    "скачиваем в папку где будем работать"
   ]
  },
  {
   "cell_type": "markdown",
   "metadata": {},
   "source": [
    "запускаем следующую строчку кода чтобы yolo настроить на работу без интернета"
   ]
  },
  {
   "cell_type": "code",
   "execution_count": null,
   "metadata": {},
   "outputs": [],
   "source": [
    "!python yolov5/train.py  --weights yolov5n.pt --epochs 1"
   ]
  },
  {
   "cell_type": "markdown",
   "metadata": {},
   "source": [
    "запускаем, следующий код чтобы загрузить модели работающие с русским и английским текстом"
   ]
  },
  {
   "cell_type": "code",
   "execution_count": 17,
   "metadata": {},
   "outputs": [
    {
     "name": "stderr",
     "output_type": "stream",
     "text": [
      "Using CPU. Note: This module is much faster with a GPU.\n",
      "Downloading recognition model, please wait. This may take several minutes depending upon your network connection.\n"
     ]
    },
    {
     "name": "stdout",
     "output_type": "stream",
     "text": [
      "Progress: |██████████████████████████████████████████████████| 100.1% Complete"
     ]
    }
   ],
   "source": [
    "# библеотека с предобученной моделью\n",
    "import easyocr\n",
    "# загружаем предобученную модель на английских буквам\n",
    "reader = easyocr.Reader(['en', 'ru'], gpu = False)"
   ]
  },
  {
   "cell_type": "markdown",
   "metadata": {},
   "source": [
    "# Модуль A Разработка модели машинного обучения "
   ]
  },
  {
   "cell_type": "markdown",
   "metadata": {},
   "source": [
    "## 1.1 Подготовка и анализ изначальных данных"
   ]
  },
  {
   "cell_type": "markdown",
   "metadata": {},
   "source": [
    "### Предообрабатываем изначальные данные:"
   ]
  },
  {
   "cell_type": "markdown",
   "metadata": {},
   "source": [
    "В полученных, в ходе работы данных, мы хотим получить следующую структуру:\n",
    "> Data:\n",
    ">> - images - фотографии\n",
    ">> - labels - разметка единого формата YOLO\n",
    ">> - labels.txt - файл с названием класса"
   ]
  },
  {
   "cell_type": "markdown",
   "metadata": {},
   "source": [
    "заходим в файл xml2yolo/convert.py в нем меняем название 0 класса на licence так как именно он указан во всех файлах xml, остальные удаляем, ctrl+s для сохранения \n",
    "\n",
    "Далее переносим данный файл в папку с разметкой формата xml."
   ]
  },
  {
   "cell_type": "markdown",
   "metadata": {},
   "source": [
    "Запускаем данный файл.  Run current file in interactive window\n",
    "\n",
    "Все данные разметки записались в формате txt что соответсвует yolo формату."
   ]
  },
  {
   "cell_type": "markdown",
   "metadata": {},
   "source": [
    "Удаляем разметку в формате xml и файл для изменения формата."
   ]
  },
  {
   "cell_type": "code",
   "execution_count": 4,
   "metadata": {},
   "outputs": [],
   "source": [
    "import os\n",
    "# удаляем файлы в формате xml\n",
    "# в dir_name указываем путь к нашей такой же папке\n",
    "dir_name = \"C:/Users/igorv/Desktop/proffessionals_plates_license/fish/dataset/2/annotations\"\n",
    "test = os.listdir(dir_name)\n",
    "\n",
    "for item in test:\n",
    "    if item.endswith(\".xml\"):\n",
    "        os.remove(os.path.join(dir_name, item))\n",
    "        \n",
    "# удаляем файл для изменения формата\n",
    "# можно удалять можно не удалять, путь тоже пишем наш\n",
    "file='C:/Users/igorv/Desktop/proffessionals_plates_license/fish/dataset/2/annotations/convert.py'\n",
    "if os.path.exists(file):\n",
    "    os.remove(file)"
   ]
  },
  {
   "cell_type": "markdown",
   "metadata": {},
   "source": [
    "### Разметка данных"
   ]
  },
  {
   "cell_type": "markdown",
   "metadata": {},
   "source": [
    "Для разметки даннных требуется установить git, с помощью которого установить удобной утилитой для разметки данных формата YOLO"
   ]
  },
  {
   "cell_type": "code",
   "execution_count": 5,
   "metadata": {},
   "outputs": [
    {
     "name": "stdout",
     "output_type": "stream",
     "text": [
      "c:\\Users\\igorv\\Desktop\\proffessionals_plates_license\\fish\\YOLO-Annotation-Tool\n"
     ]
    },
    {
     "name": "stderr",
     "output_type": "stream",
     "text": [
      "c:\\Users\\igorv\\Desktop\\proffessionals_plates_license\\fish\\.venv\\lib\\site-packages\\IPython\\core\\magics\\osm.py:417: UserWarning: This is now an optional IPython functionality, setting dhist requires you to install the `pickleshare` library.\n",
      "  self.shell.db['dhist'] = compress_dhist(dhist)[-100:]\n"
     ]
    }
   ],
   "source": [
    "%cd YOLO-Annotation-Tool"
   ]
  },
  {
   "cell_type": "markdown",
   "metadata": {},
   "source": [
    "если командой не запускается можем просто открыть вручную файл Annotate.html , находим его, правой кнопкой мыши=> open with other Application => в окне выбора выбираем firefox"
   ]
  },
  {
   "cell_type": "markdown",
   "metadata": {},
   "source": [
    "не забываем создать текстовый файл с классом, тем который у нас присутствует в данных, в нашем случае licence, и в самой программе разметки выбираем картинки и классы и их разметку, доразмечаем и сохраняем как yolo"
   ]
  },
  {
   "cell_type": "code",
   "execution_count": 6,
   "metadata": {},
   "outputs": [
    {
     "name": "stdout",
     "output_type": "stream",
     "text": [
      "[WinError 2] The system cannot find the file specified: 'YOLO-Annotation-Tool'\n",
      "c:\\Users\\igorv\\Desktop\\proffessionals_plates_license\\fish\\YOLO-Annotation-Tool\n"
     ]
    },
    {
     "name": "stderr",
     "output_type": "stream",
     "text": [
      "c:\\Users\\igorv\\Desktop\\proffessionals_plates_license\\fish\\.venv\\lib\\site-packages\\IPython\\core\\magics\\osm.py:393: UserWarning: This is now an optional IPython functionality, using bookmarks requires you to install the `pickleshare` library.\n",
      "  bkms = self.shell.db.get('bookmarks', {})\n"
     ]
    },
    {
     "name": "stdout",
     "output_type": "stream",
     "text": [
      "^C\n",
      "C:\\Users\\igorv\\Desktop\\proffessionals_plates_license\\fish\n"
     ]
    }
   ],
   "source": [
    "%cd YOLO-Annotation-Tool\n",
    "!Annotate.html\n",
    "%cd C:/Users/igorv/Desktop/proffessionals_plates_license/fish"
   ]
  },
  {
   "cell_type": "markdown",
   "metadata": {},
   "source": [
    "Через скачанную выше утилиту мы проверяем фотографии на соответсвие с разметкой и наличие пропусков, если пропуски найдены то заполняем их"
   ]
  },
  {
   "cell_type": "markdown",
   "metadata": {},
   "source": [
    "Сохраняем наши данные в формате yolo"
   ]
  },
  {
   "cell_type": "code",
   "execution_count": 7,
   "metadata": {},
   "outputs": [
    {
     "name": "stdout",
     "output_type": "stream",
     "text": [
      "C:\\Users\\igorv\\Desktop\\proffessionals_plates_license\\fish\n"
     ]
    }
   ],
   "source": [
    "%cd C:/Users/igorv/Desktop/proffessionals_plates_license/fish"
   ]
  },
  {
   "cell_type": "code",
   "execution_count": null,
   "metadata": {},
   "outputs": [],
   "source": [
    "import os\n",
    "# забираем данные картинок путь указываем наш\n",
    "images = [os.path.join('C:/Users/admin/Desktop/Lipatnikova/B/Datas/new/images', x) for x in os.listdir('C:/Users/admin/Desktop/Lipatnikova/B/Datas/Data/images')]\n",
    "# Так как для загрузки в нашу модель данные разметки должны быть в отдельных файлах мы дублируем их из папки с ними, для дальнейшей разбивки на тестовые, обучающие и валидационные.\n",
    "labels = [os.path.join('C:/Users/admin/Desktop/Lipatnikova/B/Datas/Data/labels', x) for x in os.listdir('C:/Users/admin/Desktop/Lipatnikova/B/Datas/Data/labels')]"
   ]
  },
  {
   "cell_type": "markdown",
   "metadata": {},
   "source": [
    "### разделение нашего набора данных на тренировачные и тестовый"
   ]
  },
  {
   "cell_type": "markdown",
   "metadata": {},
   "source": [
    "Для обучения модели и проверки её качества нам требуется разделить наш предобработанный датасет на три папки. Обучающую, тестовую и валидационную. Последняя нужна для проверки переобучения во время обучения."
   ]
  },
  {
   "cell_type": "code",
   "execution_count": null,
   "metadata": {},
   "outputs": [],
   "source": [
    "from sklearn.model_selection import train_test_split \n",
    "# производим разделение всех наших данных на Тренировочные и валидационные\n",
    "train_images, val_images, train_annotations, val_annotations = train_test_split(images, labels, test_size=0.15, random_state=42)\n",
    "# валидационные данные делим на тестовые и валидационные, чтобы одни использовать для тестирования пока обучается, а вторые для тестирования после обучения\n",
    "val_images, test_images, val_annotations, test_annotations = train_test_split(val_images, val_annotations, test_size=0.5, random_state=42)"
   ]
  },
  {
   "cell_type": "code",
   "execution_count": null,
   "metadata": {},
   "outputs": [],
   "source": [
    "import os\n",
    "# Создаем папки куда будем переносить наши разбитые на 3 набора данные фотографий\n",
    "parent = 'C:/Users/admin/Desktop/Lipatnikova/B/new'\n",
    "dirs = 'images/train', 'images/val', 'images/test', 'labels/train', 'labels/val', 'labels/test'\n",
    "for dir in dirs:\n",
    "    path = os.path.join(parent, dir)\n",
    "    # проверяем существование папки чтобы не создавать если уже есть\n",
    "    if not os.path.exists(path):\n",
    "        # создаем папку\n",
    "        os.makedirs(path)\n"
   ]
  },
  {
   "cell_type": "code",
   "execution_count": null,
   "metadata": {},
   "outputs": [],
   "source": [
    "import shutil\n",
    "#Утилитная функция для переноса файлов \n",
    "def move_files_to_folder(list_of_files, destination_folder):\n",
    "    for f in list_of_files:\n",
    "        try:\n",
    "            shutil.copy(f, destination_folder)\n",
    "        except:\n",
    "            print(f)\n",
    "            assert False\n",
    "\n",
    "# Переносим файлы по из папкам учитывая разделение\n",
    "move_files_to_folder(train_images, 'new/images/train')\n",
    "move_files_to_folder(val_images, 'new/images/val/')\n",
    "move_files_to_folder(test_images, 'new/images/test/')\n",
    "move_files_to_folder(train_annotations, 'new/labels/train/')\n",
    "move_files_to_folder(val_annotations, 'new/labels/val/')\n",
    "move_files_to_folder(test_annotations, 'new/labels/test/')"
   ]
  },
  {
   "cell_type": "markdown",
   "metadata": {},
   "source": [
    "## 1.2 Подбор алгоритма обучения"
   ]
  },
  {
   "cell_type": "markdown",
   "metadata": {},
   "source": [
    "Для обучения нейронной сети было важно выбрать подходящую архитектуру, которая наилучшим образом подойдёт для решения поставленной задачи. \n",
    "\n",
    "Главную задачу можно разбить на две подзадачи: \n",
    "- поиск автомобильного номера на картинке\n",
    "- считывание текста с номера \n",
    "\n",
    "Обе этих задачи решаются разными архитектурами и способами.\n",
    "\n",
    "Для решения первой подзадачи в виду малого кол-во времени, удобным, быстрым и не уступающим по результату решения задачи варианту, является использование модели YOLOv5. \n",
    "\n",
    "У неё есть предобученные веса с разным результатом точности, слоями, скоростью. Самой сбалансированной и удобной является yolov5s. Она достаточно быстрая, с достаточным количеством параметров и хорошим результатом точности. Количество параметров у данной модели переваливает за 7М, а именно 7.2М.\n",
    "\n",
    "В ходе обучения данной модели на наших данных, подбор опимальных параметров будет происходить автоматически. После мы будем использовать ту модель, с оптимальными для нас параметрами, результат детекции которой, будет нас удовлетворять.\n",
    "\n",
    "Для решения второй подзадачи в виду тех же факторов удобно будет использовать библиотеку easyocr. Она представляет собой предобученную модель на разных языках мира. Она позволяет читать надписи не только в горизонтальном виде, но и в повороте или под перспективой. Также она достаточно быстрая."
   ]
  },
  {
   "cell_type": "markdown",
   "metadata": {},
   "source": [
    "## 1.3 Импорт данных для обучения нейронной сети"
   ]
  },
  {
   "cell_type": "code",
   "execution_count": null,
   "metadata": {},
   "outputs": [],
   "source": [
    "import os\n",
    "# Создаем папки куда будем переносить наши данные, чтобы модель их видела и обучалась на них\n",
    "parent = 'yolov5'\n",
    "dirs = 'dataset/annatations', 'dataset/train/images', 'dataset/train/labels'\n",
    "for dir in dirs:\n",
    "    path = os.path.join(parent, dir)\n",
    "    # проверяем существование папки чтобы не создавать если уже есть\n",
    "    if not os.path.exists(path):\n",
    "        # создаем папку\n",
    "        os.makedirs(path)"
   ]
  },
  {
   "cell_type": "markdown",
   "metadata": {},
   "source": [
    "Переносим данные из исходных папок"
   ]
  },
  {
   "cell_type": "code",
   "execution_count": null,
   "metadata": {},
   "outputs": [],
   "source": [
    "# функция для копирования папок\n",
    "from distutils.dir_util import copy_tree\n",
    "# копируем разметку\n",
    "copy_tree('C:/Users/admin/Desktop/Lipatnikova/B/Datas/Data/labels', 'C:/Users/admin/Desktop/Lipatnikova/B/yolov5/dataset/train/labels')\n",
    "# копируем фотографии\n",
    "copy_tree('C:/Users/admin/Desktop/Lipatnikova/B/Datas/Data/images', 'C:/Users/admin/Desktop/Lipatnikova/B/yolov5/dataset/train/images')"
   ]
  },
  {
   "cell_type": "markdown",
   "metadata": {},
   "source": [
    "Создаём файл с путями к обучающим, тестовым и валидационный данным, а также информацией о классах:"
   ]
  },
  {
   "cell_type": "markdown",
   "metadata": {},
   "source": [
    "Также надо создать файл формата yaml в следующем виде:\n",
    "\n",
    "train: new/images/train/ - путь до тестовых данных\n",
    "\n",
    "val:  new/images/val/ - путь до валидационных данных\n",
    "\n",
    "test: new/images/test/ - путь до тестовых данных\n",
    "\n",
    "path: C:/Users/admin/Desktop/Lipatnikova/B - общий путь до папки new\n",
    "\n",
    "nc: 1 - количество классов\n",
    "\n",
    "names: [\"plate\",] - названия классов"
   ]
  },
  {
   "cell_type": "markdown",
   "metadata": {},
   "source": [
    "## 1.4 Обучение нейронной сети"
   ]
  },
  {
   "cell_type": "markdown",
   "metadata": {},
   "source": [
    "### Обучение модели нахождения автомобильного номера"
   ]
  },
  {
   "cell_type": "markdown",
   "metadata": {},
   "source": [
    "в параметрах:\n",
    "    --data путь к нашему .yaml файлу,\n",
    "\n",
    "    Путь к yolov5n или yolov5s\n",
    "\n",
    "    --weight yolov5n\n",
    "\n",
    "    --epochs количество сколько эпох будет обучаться модель\n",
    "\n",
    "    --batch-size цифра которую нужно подобрать не слишком мало и не много (если мало подобрать нейросеть будет долго обучаться, если много то во время обучения закончится память и она недообучиться )"
   ]
  },
  {
   "cell_type": "code",
   "execution_count": 21,
   "metadata": {},
   "outputs": [
    {
     "name": "stderr",
     "output_type": "stream",
     "text": [
      "\u001b[34m\u001b[1mtrain: \u001b[0mweights=C:/Users/admin/Desktop/Lipatnikova/B/yolov5s.pt, cfg=, data=yolov5/dataset/data.yaml, hyp=yolov5\\data\\hyps\\hyp.scratch-low.yaml, epochs=10, batch_size=6, imgsz=640, rect=False, resume=False, nosave=False, noval=False, noautoanchor=False, noplots=False, evolve=None, evolve_population=yolov5\\data\\hyps, resume_evolve=None, bucket=, cache=None, image_weights=False, device=0, multi_scale=False, single_cls=False, optimizer=SGD, sync_bn=False, workers=8, project=yolov5\\runs\\train, name=exp, exist_ok=False, quad=False, cos_lr=False, label_smoothing=0.0, patience=100, freeze=[0], save_period=-1, seed=0, local_rank=-1, entity=None, upload_dataset=False, bbox_interval=-1, artifact_alias=latest, ndjson_console=False, ndjson_file=False\n",
      "From https://github.com/ultralytics/yolov5\n",
      "   574331f9..b2ffe055  master     -> origin/master\n",
      " * [new branch]        snyk-fix-6571a450c20c0599e02a9bc7e90fd3a2 -> origin/snyk-fix-6571a450c20c0599e02a9bc7e90fd3a2\n",
      "\u001b[34m\u001b[1mgithub: \u001b[0m YOLOv5 is out of date by 3 commits. Use 'git pull' or 'git clone https://github.com/ultralytics/yolov5' to update.\n",
      "Traceback (most recent call last):\n",
      "  File \"C:\\Users\\igorv\\Desktop\\proffessionals_plates_license\\fish\\yolov5\\train.py\", line 848, in <module>\n",
      "    main(opt)\n",
      "  File \"C:\\Users\\igorv\\Desktop\\proffessionals_plates_license\\fish\\yolov5\\train.py\", line 591, in main\n",
      "    check_file(opt.data),\n",
      "  File \"C:\\Users\\igorv\\Desktop\\proffessionals_plates_license\\fish\\yolov5\\utils\\general.py\", line 502, in check_file\n",
      "    assert len(files), f\"File not found: {file}\"  # assert file was found\n",
      "AssertionError: File not found: yolov5/dataset/data.yaml\n"
     ]
    }
   ],
   "source": [
    "!python yolov5/train.py --data yolov5/dataset/data.yaml --weights C:/Users/admin/Desktop/Lipatnikova/B/yolov5s.pt --epochs 10 --batch-size 6"
   ]
  },
  {
   "cell_type": "markdown",
   "metadata": {},
   "source": [
    "Эксперемментируем, увеличим кол-во эпох и кол-во батчей, подбираем оптимальные параметры."
   ]
  },
  {
   "cell_type": "code",
   "execution_count": null,
   "metadata": {},
   "outputs": [],
   "source": [
    "!python yolov5/train.py --data yolov5/dataset/data.yaml --weights C:/Users/admin/Desktop/Lipatnikova/B/yolov5s.pt --epochs 10 --batch-size 30"
   ]
  },
  {
   "cell_type": "markdown",
   "metadata": {},
   "source": [
    "### Работа с моделью для считывания текста"
   ]
  },
  {
   "cell_type": "markdown",
   "metadata": {},
   "source": [
    "Чтобы наша модель считывал текст только с номера, после нахождения номера на картинке его следует вырезать и после уже загрузить в модель для распознавания текста."
   ]
  },
  {
   "cell_type": "markdown",
   "metadata": {},
   "source": [
    "В скачанной нами модели YOLOv5 есть файл с функцией, в которую можно загрузить наши лучшие веса и установить параметр для сохранения результатов обнаружения номеров для последующей загрузки в модель."
   ]
  },
  {
   "cell_type": "markdown",
   "metadata": {},
   "source": [
    "weights='путь к нашим весам.pt'\n",
    "source ='источник который обрезаем'"
   ]
  },
  {
   "cell_type": "code",
   "execution_count": null,
   "metadata": {},
   "outputs": [],
   "source": [
    "from yolov5.detect import run\n",
    "run(weights='yolov5/runs/train/exp6/weights/best.pt',source= \"C:/Users/admin/Desktop/Lipatnikova/B/new/images/test\")"
   ]
  },
  {
   "cell_type": "markdown",
   "metadata": {},
   "source": [
    "Главной задачей является распознавание российских номеров, для этого требуется загрузить английских алфавит в нашу модель, так как в отечественных номерах используются буквы всемирного алфавита, которые визуально схожи с русскими буквами, такие как: М, Н, Y, Х, А, Т, Р, О и др."
   ]
  },
  {
   "cell_type": "code",
   "execution_count": null,
   "metadata": {},
   "outputs": [],
   "source": [
    "# библеотека с предобученной моделью\n",
    "import easyocr\n",
    "# загружаем предобученную модель на английских буквам\n",
    "reader = easyocr.Reader(['en', ], gpu = True)\n",
    "# загружаем в модель фотографию и сохраняем результат\n",
    "_, text, __ = reader.readtext('C:/Users/admin/Desktop/Lipatnikova/B/yolov5/runs/detect/exp4/crops/plate/car16.jpg')[0]\n",
    "print(text)"
   ]
  },
  {
   "cell_type": "code",
   "execution_count": 20,
   "metadata": {},
   "outputs": [
    {
     "name": "stderr",
     "output_type": "stream",
     "text": [
      "Using CPU. Note: This module is much faster with a GPU.\n"
     ]
    },
    {
     "name": "stdout",
     "output_type": "stream",
     "text": [
      "KLo1CA2555\n"
     ]
    }
   ],
   "source": [
    "# библеотека с предобученной моделью\n",
    "import easyocr\n",
    "# загружаем предобученную модель на английских буквам\n",
    "reader = easyocr.Reader(['en'], gpu = False)\n",
    "# загружаем в модель фотографию и сохраняем результат\n",
    "# _, text, __ = reader.readtext('yolov5/runs/detect/exp/crops/bus/bus.jpg')[0]\n",
    "_, text, __ = reader.readtext('dataset/2/images/Cars0.png')[0]\n",
    "print(text)"
   ]
  },
  {
   "cell_type": "markdown",
   "metadata": {},
   "source": [
    "# Модуль Б Тестирование разработанной модели\n"
   ]
  },
  {
   "cell_type": "markdown",
   "metadata": {},
   "source": [
    "пишем свои тест-кейсы"
   ]
  },
  {
   "cell_type": "markdown",
   "metadata": {},
   "source": [
    " здесь прописываем полный путь к нашем файлу detect.py из библиотеки yolov5 важно он должен быть прописан относительно текущего файла поэтому смотрим где мы находимся"
   ]
  },
  {
   "cell_type": "code",
   "execution_count": null,
   "metadata": {},
   "outputs": [],
   "source": [
    "!cd"
   ]
  },
  {
   "cell_type": "code",
   "execution_count": null,
   "metadata": {},
   "outputs": [],
   "source": [
    "\n",
    "from yolov5.detect import run \n",
    "import os\n",
    "from easyocr import Reader\n",
    "# функция для получения результата\n",
    "def get_number(path):\n",
    "    dir_name = str(run(weights='yolov5/runs/train/exp6/weights/best.pt', source=path, project = 'C:/Users/admin/Desktop/Lipatnikova/С/runs/detect')) + '/crops/plate/'\n",
    "    reader = Reader(['en','ru'], gpu = True)\n",
    "    imgs = os.listdir(dir_name)\n",
    "    strok = []\n",
    "\n",
    "\n",
    "    for img in imgs:\n",
    "        print(img)\n",
    "        img_text = reader.readtext(f'{dir_name}/{img}')\n",
    "        final_text = \"\"\n",
    "\n",
    "        for _, text, __ in img_text: # _ = bounding box, text = text and __ = confident level\n",
    "            final_text += \" \"\n",
    "            final_text += text\n",
    "        strok.append(final_text)\n",
    "    return strok"
   ]
  },
  {
   "cell_type": "markdown",
   "metadata": {},
   "source": [
    "## Предоставленные тест-кейсы"
   ]
  },
  {
   "cell_type": "code",
   "execution_count": null,
   "metadata": {},
   "outputs": [],
   "source": [
    "numbers = get_number('C:/Users/admin/Desktop/Lipatnikova/С/test')\n",
    "for num in numbers:\n",
    "    print('Автомобильный номер: ', num)"
   ]
  },
  {
   "cell_type": "markdown",
   "metadata": {},
   "source": [
    "В ходе тестирования на предоставленных данных было выявлено что данная модель достаточно плохо  считывает данные с картинки, если она размыта или если машина на картинке достаточно далеко и номер маленький. Также есть недостатки и у модели обнаружения. Если машина достаточно далеко, то она не видит номер на картинке. Проблемы также есть и с обрезкой выявленных номеров, из-за чего результат распознавания текста также ухудшился, способ, который был применён, сохраняет только последний обрезанный объект, то есть если наша модель нашла на картинке номер и что-то ещё, то в модель распознавания может попасть не номер, а мусор."
   ]
  },
  {
   "cell_type": "markdown",
   "metadata": {},
   "source": [
    "## Собственные тест-кейсы"
   ]
  },
  {
   "cell_type": "code",
   "execution_count": null,
   "metadata": {},
   "outputs": [],
   "source": [
    "numbers = get_number('C:/Users/admin/Desktop/Lipatnikova/С/my_test')\n",
    "for num in numbers:\n",
    "    print('Автомобильный номер: ', num)"
   ]
  },
  {
   "cell_type": "markdown",
   "metadata": {},
   "source": [
    "На наших тестовых данных модель показала все те же недочёты выявленные ранее."
   ]
  },
  {
   "cell_type": "markdown",
   "metadata": {},
   "source": [
    "# Модуль В Презентация"
   ]
  },
  {
   "cell_type": "markdown",
   "metadata": {},
   "source": [
    "здесь мы просто создаём презентацию по всей нашей работе."
   ]
  }
 ],
 "metadata": {
  "kernelspec": {
   "display_name": ".venv",
   "language": "python",
   "name": "python3"
  },
  "language_info": {
   "codemirror_mode": {
    "name": "ipython",
    "version": 3
   },
   "file_extension": ".py",
   "mimetype": "text/x-python",
   "name": "python",
   "nbconvert_exporter": "python",
   "pygments_lexer": "ipython3",
   "version": "3.10.9"
  }
 },
 "nbformat": 4,
 "nbformat_minor": 2
}
